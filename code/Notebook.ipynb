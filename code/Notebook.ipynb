{
 "cells": [
  {
   "cell_type": "code",
   "execution_count": 11,
   "metadata": {},
   "outputs": [],
   "source": [
    "from pathlib import Path\n",
    "import pandas as pd\n",
    "import numpy as np"
   ]
  },
  {
   "cell_type": "code",
   "execution_count": 5,
   "metadata": {},
   "outputs": [],
   "source": [
    "path = Path('../data/COVID-19_2020.csv')\n",
    "data = pd.read_csv(path)"
   ]
  },
  {
   "cell_type": "code",
   "execution_count": 15,
   "metadata": {},
   "outputs": [
    {
     "data": {
      "text/html": [
       "<div>\n",
       "<style scoped>\n",
       "    .dataframe tbody tr th:only-of-type {\n",
       "        vertical-align: middle;\n",
       "    }\n",
       "\n",
       "    .dataframe tbody tr th {\n",
       "        vertical-align: top;\n",
       "    }\n",
       "\n",
       "    .dataframe thead th {\n",
       "        text-align: right;\n",
       "    }\n",
       "</style>\n",
       "<table border=\"1\" class=\"dataframe\">\n",
       "  <thead>\n",
       "    <tr style=\"text-align: right;\">\n",
       "      <th></th>\n",
       "      <th>country</th>\n",
       "      <th>country_code</th>\n",
       "      <th>continent</th>\n",
       "      <th>population</th>\n",
       "      <th>indicator</th>\n",
       "      <th>weekly_count</th>\n",
       "      <th>year_week</th>\n",
       "      <th>rate_14_day</th>\n",
       "      <th>cumulative_count</th>\n",
       "      <th>source</th>\n",
       "    </tr>\n",
       "  </thead>\n",
       "  <tbody>\n",
       "    <tr>\n",
       "      <th>0</th>\n",
       "      <td>Afghanistan</td>\n",
       "      <td>AFG</td>\n",
       "      <td>Asia</td>\n",
       "      <td>38928341</td>\n",
       "      <td>cases</td>\n",
       "      <td>0.0</td>\n",
       "      <td>2020-01</td>\n",
       "      <td>NaN</td>\n",
       "      <td>0.0</td>\n",
       "      <td>Epidemic intelligence, national weekly data</td>\n",
       "    </tr>\n",
       "    <tr>\n",
       "      <th>1</th>\n",
       "      <td>Afghanistan</td>\n",
       "      <td>AFG</td>\n",
       "      <td>Asia</td>\n",
       "      <td>38928341</td>\n",
       "      <td>cases</td>\n",
       "      <td>0.0</td>\n",
       "      <td>2020-02</td>\n",
       "      <td>0.0</td>\n",
       "      <td>0.0</td>\n",
       "      <td>Epidemic intelligence, national weekly data</td>\n",
       "    </tr>\n",
       "    <tr>\n",
       "      <th>2</th>\n",
       "      <td>Afghanistan</td>\n",
       "      <td>AFG</td>\n",
       "      <td>Asia</td>\n",
       "      <td>38928341</td>\n",
       "      <td>cases</td>\n",
       "      <td>0.0</td>\n",
       "      <td>2020-03</td>\n",
       "      <td>0.0</td>\n",
       "      <td>0.0</td>\n",
       "      <td>Epidemic intelligence, national weekly data</td>\n",
       "    </tr>\n",
       "    <tr>\n",
       "      <th>3</th>\n",
       "      <td>Afghanistan</td>\n",
       "      <td>AFG</td>\n",
       "      <td>Asia</td>\n",
       "      <td>38928341</td>\n",
       "      <td>cases</td>\n",
       "      <td>0.0</td>\n",
       "      <td>2020-04</td>\n",
       "      <td>0.0</td>\n",
       "      <td>0.0</td>\n",
       "      <td>Epidemic intelligence, national weekly data</td>\n",
       "    </tr>\n",
       "    <tr>\n",
       "      <th>4</th>\n",
       "      <td>Afghanistan</td>\n",
       "      <td>AFG</td>\n",
       "      <td>Asia</td>\n",
       "      <td>38928341</td>\n",
       "      <td>cases</td>\n",
       "      <td>0.0</td>\n",
       "      <td>2020-05</td>\n",
       "      <td>0.0</td>\n",
       "      <td>0.0</td>\n",
       "      <td>Epidemic intelligence, national weekly data</td>\n",
       "    </tr>\n",
       "  </tbody>\n",
       "</table>\n",
       "</div>"
      ],
      "text/plain": [
       "       country country_code continent  population indicator  weekly_count  \\\n",
       "0  Afghanistan          AFG      Asia    38928341     cases           0.0   \n",
       "1  Afghanistan          AFG      Asia    38928341     cases           0.0   \n",
       "2  Afghanistan          AFG      Asia    38928341     cases           0.0   \n",
       "3  Afghanistan          AFG      Asia    38928341     cases           0.0   \n",
       "4  Afghanistan          AFG      Asia    38928341     cases           0.0   \n",
       "\n",
       "  year_week  rate_14_day  cumulative_count  \\\n",
       "0   2020-01          NaN               0.0   \n",
       "1   2020-02          0.0               0.0   \n",
       "2   2020-03          0.0               0.0   \n",
       "3   2020-04          0.0               0.0   \n",
       "4   2020-05          0.0               0.0   \n",
       "\n",
       "                                        source  \n",
       "0  Epidemic intelligence, national weekly data  \n",
       "1  Epidemic intelligence, national weekly data  \n",
       "2  Epidemic intelligence, national weekly data  \n",
       "3  Epidemic intelligence, national weekly data  \n",
       "4  Epidemic intelligence, national weekly data  "
      ]
     },
     "execution_count": 15,
     "metadata": {},
     "output_type": "execute_result"
    }
   ],
   "source": [
    "data.head()"
   ]
  },
  {
   "cell_type": "code",
   "execution_count": 21,
   "metadata": {},
   "outputs": [],
   "source": [
    "continents = ['Africa (total)', 'America (total)', 'Asia (total)','EU/EEA (total)', 'Europe (total)', 'Oceania (total)']\n",
    "\n",
    "data_countries = data[~data.country.isin(continents)]"
   ]
  },
  {
   "cell_type": "code",
   "execution_count": 26,
   "metadata": {},
   "outputs": [
    {
     "name": "stdout",
     "output_type": "stream",
     "text": [
      "Africa (total)\n",
      "America (total)\n",
      "Asia (total)\n",
      "EU/EEA (total)\n",
      "Europe (total)\n",
      "Oceania (total)\n"
     ]
    }
   ],
   "source": []
  }
 ],
 "metadata": {
  "kernelspec": {
   "display_name": "Python 3.10.0 64-bit",
   "language": "python",
   "name": "python3"
  },
  "language_info": {
   "codemirror_mode": {
    "name": "ipython",
    "version": 3
   },
   "file_extension": ".py",
   "mimetype": "text/x-python",
   "name": "python",
   "nbconvert_exporter": "python",
   "pygments_lexer": "ipython3",
   "version": "3.10.0"
  },
  "orig_nbformat": 4,
  "vscode": {
   "interpreter": {
    "hash": "b534a661a41ca6a5edf96c43125d8b3a3e9f5be06ba814ffb176ad0681d50d4c"
   }
  }
 },
 "nbformat": 4,
 "nbformat_minor": 2
}
